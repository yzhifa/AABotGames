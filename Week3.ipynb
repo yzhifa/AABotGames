{
 "cells": [
  {
   "cell_type": "code",
   "execution_count": null,
   "id": "03e0e50b",
   "metadata": {},
   "outputs": [],
   "source": [
    "import requests\n",
    "import os\n",
    "import subprocess\n",
    "import rpa as r"
   ]
  },
  {
   "cell_type": "code",
   "execution_count": 3,
   "id": "7cfabe2b",
   "metadata": {},
   "outputs": [],
   "source": [
    "def turbo_mode(on_off = None):\n",
    "    import rpa as r; import platform\n",
    "\n",
    "    if on_off is None:\n",
    "        print('[USAGE] provide True / False as parameter')\n",
    "        return False\n",
    "    \n",
    "    if platform.system() == 'Windows':\n",
    "        tagui_src_directory = r.tagui_location() + '/tagui/src'\n",
    "    else:\n",
    "        tagui_src_directory = r.tagui_location() + '/.tagui/src'\n",
    "\n",
    "    if on_off:\n",
    "        print('[RPA] updating to tournament edition')\n",
    "        r.download('https://github.com/kelaberetiv/TagUI/files/6935906/tagui_header_py.txt', tagui_src_directory + '/tagui_header.js')\n",
    "        r.download('https://github.com/kelaberetiv/TagUI/files/6935910/tagui_chrome_py.txt', tagui_src_directory + '/tagui_chrome.php')\n",
    "        r.download('https://github.com/kelaberetiv/TagUI/files/6997440/tagui_sikuli_py.txt', tagui_src_directory + '/tagui.sikuli/tagui.py')\n",
    "        print('[RPA] done, turbo mode activated')\n",
    "    else:\n",
    "        print('[RPA] reverting to production edition')\n",
    "        r.download('https://raw.githubusercontent.com/tebelorg/TagUI/rpa_python/src/tagui_header.js', tagui_src_directory + '/tagui_header.js')\n",
    "        r.download('https://raw.githubusercontent.com/tebelorg/TagUI/rpa_python/src/tagui_chrome.php', tagui_src_directory + '/tagui_chrome.php')\n",
    "        r.download('https://raw.githubusercontent.com/tebelorg/TagUI/rpa_python/src/tagui.sikuli/tagui.py', tagui_src_directory + '/tagui.sikuli/tagui.py')\n",
    "        print('[RPA] done, turbo mode deactivated')\n",
    "        \n",
    "    return True"
   ]
  },
  {
   "cell_type": "code",
   "execution_count": 4,
   "id": "465f3a1f",
   "metadata": {},
   "outputs": [
    {
     "name": "stdout",
     "output_type": "stream",
     "text": [
      "[RPA] reverting to production edition\n",
      "[RPA] done, turbo mode deactivated\n"
     ]
    },
    {
     "data": {
      "text/plain": [
       "True"
      ]
     },
     "execution_count": 4,
     "metadata": {},
     "output_type": "execute_result"
    }
   ],
   "source": [
    "turbo_mode(False)"
   ]
  },
  {
   "cell_type": "code",
   "execution_count": null,
   "id": "d7fcf720",
   "metadata": {},
   "outputs": [],
   "source": [
    "# Constants\n",
    "site = 'https://developer.automationanywhere.com/challenges/automationanywherelabs-employeedatamigration.html'\n",
    "api_add = 'https://botgames-employee-data-migration-vwsrh7tyda-uc.a.run.app/employees?id='\n",
    "app_add = 'C:\\\\Users\\\\ZF\\\\Desktop\\\\EmployeeList.exe'"
   ]
  },
  {
   "cell_type": "code",
   "execution_count": null,
   "id": "090d5561",
   "metadata": {},
   "outputs": [],
   "source": [
    "def api_info(id):\n",
    "    res = requests.get(api_add + str(id)).json()\n",
    "    \n",
    "    # Return phone number and start date:\n",
    "    return res['phoneNumber'], res['startDate']"
   ]
  },
  {
   "cell_type": "code",
   "execution_count": null,
   "id": "5f73ad42",
   "metadata": {},
   "outputs": [],
   "source": [
    "r.init(visual_automation=True)"
   ]
  },
  {
   "cell_type": "code",
   "execution_count": null,
   "id": "8f825f97",
   "metadata": {},
   "outputs": [],
   "source": [
    "# r.wait(10)"
   ]
  },
  {
   "cell_type": "code",
   "execution_count": null,
   "id": "cdc27f25",
   "metadata": {},
   "outputs": [],
   "source": [
    "# Open desktop app\n",
    "r.keyboard('[cmd]')\n",
    "r.wait(0.5)\n",
    "r.keyboard('run[enter]')\n",
    "r.wait(0.5)\n",
    "r.keyboard(app_add + '[enter]')\n",
    "r.wait(0.5)"
   ]
  },
  {
   "cell_type": "code",
   "execution_count": null,
   "id": "284cb462",
   "metadata": {},
   "outputs": [],
   "source": [
    "r.url(site)\n",
    "r.wait(2)"
   ]
  },
  {
   "cell_type": "code",
   "execution_count": null,
   "id": "43a665ea",
   "metadata": {},
   "outputs": [],
   "source": [
    "# subprocess.Popen(app_add)\n",
    "# r.click('employee_database.png')\n",
    "\n",
    "# r.run('cmd /c ' + app_add)"
   ]
  },
  {
   "cell_type": "code",
   "execution_count": null,
   "id": "89f17ee8",
   "metadata": {},
   "outputs": [],
   "source": [
    "for _ in range(10):\n",
    "\n",
    "    empID = r.read(\"//input[@id='employeeID']\")\n",
    "\n",
    "    print(empID)\n",
    "\n",
    "    # Run through app and get data\n",
    "    r.keyboard('[ctrl]a')\n",
    "    r.keyboard(empID)\n",
    "    # Search\n",
    "    r.keyboard('[tab][enter]')\n",
    "\n",
    "    # First name\n",
    "    r.keyboard('[tab][tab]')\n",
    "#         r.keyboard('[ctrl]a')\n",
    "    r.keyboard('[ctrl]c')\n",
    "    firstName = r.clipboard()\n",
    "\n",
    "    # Last name\n",
    "    r.keyboard('[tab]')\n",
    "#         r.keyboard('[ctrl]a')\n",
    "    r.keyboard('[ctrl]c')\n",
    "    lastName = r.clipboard()\n",
    "\n",
    "    # Email ID -- need to tab twice!\n",
    "    r.keyboard('[tab][tab]')\n",
    "#         r.keyboard('[ctrl]a')\n",
    "    r.keyboard('[ctrl]c')\n",
    "    emailID = r.clipboard()\n",
    "\n",
    "    # City\n",
    "    r.keyboard('[tab]')\n",
    "#         r.keyboard('[ctrl]a')\n",
    "    r.keyboard('[ctrl]c')\n",
    "    city = r.clipboard()\n",
    "\n",
    "    # State\n",
    "    r.keyboard('[tab]')\n",
    "#         r.keyboard('[ctrl]a')\n",
    "    r.keyboard('[ctrl]c')\n",
    "    state = r.clipboard()\n",
    "\n",
    "    # Zip Code\n",
    "    r.keyboard('[tab]')\n",
    "#         r.keyboard('[ctrl]a')\n",
    "    r.keyboard('[ctrl]c')\n",
    "    zipCode = r.clipboard()\n",
    "\n",
    "    # Job Title\n",
    "    r.keyboard('[tab]')\n",
    "#         r.keyboard('[ctrl]a')\n",
    "    r.keyboard('[ctrl]c')\n",
    "    jobTitle = r.clipboard()\n",
    "\n",
    "    # Department\n",
    "    r.keyboard('[tab]')\n",
    "#         r.keyboard('[ctrl]a')\n",
    "    r.keyboard('[ctrl]c')\n",
    "    dept = r.clipboard()\n",
    "\n",
    "    # Manager\n",
    "    r.keyboard('[tab]')\n",
    "#         r.keyboard('[ctrl]a')\n",
    "    r.keyboard('[ctrl]c')\n",
    "    manager = r.clipboard()\n",
    "\n",
    "    # Return to Search Emp ID\n",
    "    r.keyboard('[tab][tab]')\n",
    "\n",
    "    print(firstName, manager, state)\n",
    "\n",
    "    # Get information from API call\n",
    "    phoneNumber, startDate = api_info(empID)\n",
    "\n",
    "    # Fill in the details in web app\n",
    "    r.type(\"//input[@id='firstName']\", firstName)\n",
    "    r.type(\"//input[@id='lastName']\", lastName)\n",
    "    r.type(\"//input[@id='phone']\", phoneNumber)\n",
    "    r.type(\"//input[@id='email']\", emailID)\n",
    "    r.type(\"//input[@id='city']\", city)\n",
    "    r.select(\"//select[@id='state']\", state)\n",
    "    r.type(\"//input[@id='zip']\", zipCode)\n",
    "    r.type(\"//input[@id='title']\", jobTitle)\n",
    "    r.select(\"//select[@id='department']\", dept)\n",
    "    r.type(\"//input[@id='startDate']\", startDate)\n",
    "    r.type(\"//input[@id='manager']\", manager)\n",
    "\n",
    "    # Click submit\n",
    "    r.click(\"//button[normalize-space()='Submit']\")"
   ]
  },
  {
   "cell_type": "code",
   "execution_count": null,
   "id": "67a3c684",
   "metadata": {},
   "outputs": [],
   "source": [
    "# r.close()"
   ]
  },
  {
   "cell_type": "code",
   "execution_count": null,
   "id": "555037fa",
   "metadata": {},
   "outputs": [],
   "source": []
  },
  {
   "cell_type": "markdown",
   "id": "d330634a",
   "metadata": {},
   "source": [
    "    1014\n",
    "                                                "
   ]
  }
 ],
 "metadata": {
  "kernelspec": {
   "display_name": "Python 3 (ipykernel)",
   "language": "python",
   "name": "python3"
  },
  "language_info": {
   "codemirror_mode": {
    "name": "ipython",
    "version": 3
   },
   "file_extension": ".py",
   "mimetype": "text/x-python",
   "name": "python",
   "nbconvert_exporter": "python",
   "pygments_lexer": "ipython3",
   "version": "3.9.6"
  }
 },
 "nbformat": 4,
 "nbformat_minor": 5
}
