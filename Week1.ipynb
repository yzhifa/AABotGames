{
 "cells": [
  {
   "cell_type": "markdown",
   "id": "7154adc8",
   "metadata": {},
   "source": []
  },
  {
   "cell_type": "code",
   "execution_count": 1,
   "id": "36960186",
   "metadata": {},
   "outputs": [],
   "source": [
    "import pandas as pd\n",
    "import rpa as r"
   ]
  },
  {
   "cell_type": "code",
   "execution_count": 2,
   "id": "565234f3",
   "metadata": {},
   "outputs": [],
   "source": [
    "def turbo_mode(on_off = None):\n",
    "    import rpa as r; import platform\n",
    "\n",
    "    if on_off is None:\n",
    "        print('[USAGE] provide True / False as parameter')\n",
    "        return False\n",
    "    \n",
    "    if platform.system() == 'Windows':\n",
    "        tagui_src_directory = r.tagui_location() + '/tagui/src'\n",
    "    else:\n",
    "        tagui_src_directory = r.tagui_location() + '/.tagui/src'\n",
    "\n",
    "    if on_off:\n",
    "        print('[RPA] updating to tournament edition')\n",
    "        r.download('https://github.com/kelaberetiv/TagUI/files/6935906/tagui_header_py.txt', tagui_src_directory + '/tagui_header.js')\n",
    "        r.download('https://github.com/kelaberetiv/TagUI/files/6935910/tagui_chrome_py.txt', tagui_src_directory + '/tagui_chrome.php')\n",
    "        r.download('https://github.com/kelaberetiv/TagUI/files/6997440/tagui_sikuli_py.txt', tagui_src_directory + '/tagui.sikuli/tagui.py')\n",
    "        print('[RPA] done, turbo mode activated')\n",
    "    else:\n",
    "        print('[RPA] reverting to production edition')\n",
    "        r.download('https://raw.githubusercontent.com/tebelorg/TagUI/rpa_python/src/tagui_header.js', tagui_src_directory + '/tagui_header.js')\n",
    "        r.download('https://raw.githubusercontent.com/tebelorg/TagUI/rpa_python/src/tagui_chrome.php', tagui_src_directory + '/tagui_chrome.php')\n",
    "        r.download('https://raw.githubusercontent.com/tebelorg/TagUI/rpa_python/src/tagui.sikuli/tagui.py', tagui_src_directory + '/tagui.sikuli/tagui.py')\n",
    "        print('[RPA] done, turbo mode deactivated')\n",
    "        \n",
    "    return True"
   ]
  },
  {
   "cell_type": "code",
   "execution_count": 3,
   "id": "866a354a",
   "metadata": {},
   "outputs": [],
   "source": [
    "# Constants\n",
    "site = 'https://developer.automationanywhere.com/challenges/automationanywherelabs-customeronboarding.html'"
   ]
  },
  {
   "cell_type": "code",
   "execution_count": 4,
   "id": "f5f6a6d7",
   "metadata": {},
   "outputs": [],
   "source": [
    "df = pd.read_csv(\"MissingCustomers.csv\")"
   ]
  },
  {
   "cell_type": "code",
   "execution_count": 5,
   "id": "6e56d23f",
   "metadata": {},
   "outputs": [
    {
     "data": {
      "text/html": [
       "<div>\n",
       "<style scoped>\n",
       "    .dataframe tbody tr th:only-of-type {\n",
       "        vertical-align: middle;\n",
       "    }\n",
       "\n",
       "    .dataframe tbody tr th {\n",
       "        vertical-align: top;\n",
       "    }\n",
       "\n",
       "    .dataframe thead th {\n",
       "        text-align: right;\n",
       "    }\n",
       "</style>\n",
       "<table border=\"1\" class=\"dataframe\">\n",
       "  <thead>\n",
       "    <tr style=\"text-align: right;\">\n",
       "      <th></th>\n",
       "      <th>Company Name</th>\n",
       "      <th>Customer ID</th>\n",
       "      <th>Primary Contact</th>\n",
       "      <th>Street Address</th>\n",
       "      <th>City</th>\n",
       "      <th>State</th>\n",
       "      <th>Zip</th>\n",
       "      <th>Email Address</th>\n",
       "      <th>Offers Discounts</th>\n",
       "      <th>Non-Disclosure On File</th>\n",
       "    </tr>\n",
       "  </thead>\n",
       "  <tbody>\n",
       "    <tr>\n",
       "      <th>0</th>\n",
       "      <td>Pathfinder Roofing and Siding</td>\n",
       "      <td>D9372416492</td>\n",
       "      <td>Ryan Neises</td>\n",
       "      <td>5423 Kirkstone Dr</td>\n",
       "      <td>Nashville</td>\n",
       "      <td>TN</td>\n",
       "      <td>37011</td>\n",
       "      <td>MisterRyGuy@gmail.com</td>\n",
       "      <td>YES</td>\n",
       "      <td>YES</td>\n",
       "    </tr>\n",
       "    <tr>\n",
       "      <th>1</th>\n",
       "      <td>Flashpoint</td>\n",
       "      <td>D9374353758</td>\n",
       "      <td>Tim Langer</td>\n",
       "      <td>3827 Ellen Dr</td>\n",
       "      <td>Lexington</td>\n",
       "      <td>KY</td>\n",
       "      <td>75426</td>\n",
       "      <td>RealRikSmits@yahoo.com</td>\n",
       "      <td>YES</td>\n",
       "      <td>NO</td>\n",
       "    </tr>\n",
       "    <tr>\n",
       "      <th>2</th>\n",
       "      <td>Crooked Nail Architecture</td>\n",
       "      <td>D9372478346</td>\n",
       "      <td>Matt Ireton</td>\n",
       "      <td>18273 Cheltenham Dr</td>\n",
       "      <td>Dayton</td>\n",
       "      <td>OH</td>\n",
       "      <td>45459</td>\n",
       "      <td>bballirish23@aol.com</td>\n",
       "      <td>NO</td>\n",
       "      <td>NO</td>\n",
       "    </tr>\n",
       "    <tr>\n",
       "      <th>3</th>\n",
       "      <td>Hat Store</td>\n",
       "      <td>D9372542784</td>\n",
       "      <td>Mitch Manders</td>\n",
       "      <td>1827 Gilead Rd</td>\n",
       "      <td>Indianaoplis</td>\n",
       "      <td>IN</td>\n",
       "      <td>34578</td>\n",
       "      <td>bobo1710@gmail.com</td>\n",
       "      <td>YES</td>\n",
       "      <td>NO</td>\n",
       "    </tr>\n",
       "    <tr>\n",
       "      <th>4</th>\n",
       "      <td>Compass Financial Services</td>\n",
       "      <td>D9374571574</td>\n",
       "      <td>John Reagan</td>\n",
       "      <td>2354 Statesville Rd</td>\n",
       "      <td>Los Angeles</td>\n",
       "      <td>CA</td>\n",
       "      <td>90001</td>\n",
       "      <td>jwilly23@yahoo.com</td>\n",
       "      <td>NO</td>\n",
       "      <td>YES</td>\n",
       "    </tr>\n",
       "    <tr>\n",
       "      <th>5</th>\n",
       "      <td>Shimetime Medical Supply</td>\n",
       "      <td>D7421418574</td>\n",
       "      <td>John Shimer</td>\n",
       "      <td>12273 Volvo Parkway</td>\n",
       "      <td>Chesapeake</td>\n",
       "      <td>VA</td>\n",
       "      <td>23320</td>\n",
       "      <td>shimetime41@yahoo.com</td>\n",
       "      <td>YES</td>\n",
       "      <td>YES</td>\n",
       "    </tr>\n",
       "    <tr>\n",
       "      <th>6</th>\n",
       "      <td>Data Monkey Analytics</td>\n",
       "      <td>D9384512574</td>\n",
       "      <td>Aaron Smith</td>\n",
       "      <td>3543 Adams Rd</td>\n",
       "      <td>Easton</td>\n",
       "      <td>CT</td>\n",
       "      <td>6612</td>\n",
       "      <td>mrmonkey27@gmail.com</td>\n",
       "      <td>NO</td>\n",
       "      <td>YES</td>\n",
       "    </tr>\n",
       "  </tbody>\n",
       "</table>\n",
       "</div>"
      ],
      "text/plain": [
       "                    Company Name  Customer ID Primary Contact  \\\n",
       "0  Pathfinder Roofing and Siding  D9372416492     Ryan Neises   \n",
       "1                     Flashpoint  D9374353758      Tim Langer   \n",
       "2      Crooked Nail Architecture  D9372478346     Matt Ireton   \n",
       "3                      Hat Store  D9372542784   Mitch Manders   \n",
       "4     Compass Financial Services  D9374571574     John Reagan   \n",
       "5       Shimetime Medical Supply  D7421418574     John Shimer   \n",
       "6          Data Monkey Analytics  D9384512574     Aaron Smith   \n",
       "\n",
       "        Street Address          City State    Zip           Email Address  \\\n",
       "0    5423 Kirkstone Dr     Nashville    TN  37011   MisterRyGuy@gmail.com   \n",
       "1        3827 Ellen Dr     Lexington    KY  75426  RealRikSmits@yahoo.com   \n",
       "2  18273 Cheltenham Dr        Dayton    OH  45459    bballirish23@aol.com   \n",
       "3       1827 Gilead Rd  Indianaoplis    IN  34578      bobo1710@gmail.com   \n",
       "4  2354 Statesville Rd   Los Angeles    CA  90001      jwilly23@yahoo.com   \n",
       "5  12273 Volvo Parkway    Chesapeake    VA  23320   shimetime41@yahoo.com   \n",
       "6        3543 Adams Rd        Easton    CT   6612    mrmonkey27@gmail.com   \n",
       "\n",
       "  Offers Discounts Non-Disclosure On File  \n",
       "0              YES                    YES  \n",
       "1              YES                     NO  \n",
       "2               NO                     NO  \n",
       "3              YES                     NO  \n",
       "4               NO                    YES  \n",
       "5              YES                    YES  \n",
       "6               NO                    YES  "
      ]
     },
     "execution_count": 5,
     "metadata": {},
     "output_type": "execute_result"
    }
   ],
   "source": [
    "df"
   ]
  },
  {
   "cell_type": "code",
   "execution_count": 6,
   "id": "98bf0b8e",
   "metadata": {},
   "outputs": [
    {
     "data": {
      "text/plain": [
       "True"
      ]
     },
     "execution_count": 6,
     "metadata": {},
     "output_type": "execute_result"
    }
   ],
   "source": [
    "r.init(visual_automation = True)\n",
    "r.url(site)"
   ]
  },
  {
   "cell_type": "code",
   "execution_count": 7,
   "id": "1ed7b874",
   "metadata": {},
   "outputs": [
    {
     "name": "stdout",
     "output_type": "stream",
     "text": [
      "37011\n",
      "75426\n",
      "45459\n",
      "34578\n",
      "90001\n",
      "23320\n",
      "6612\n"
     ]
    }
   ],
   "source": [
    "for i in df.values:\n",
    "    coyName, custID, priContact, stAdd, city, state, zip0, emailAdd, offerBool, ndaBool = i\n",
    "    r.type(\"//input[@id='customerName']\", coyName)\n",
    "    r.type(\"//input[@id='customerID']\", custID)\n",
    "    r.type(\"//input[@id='primaryContact']\", priContact)\n",
    "    r.type(\"//input[@id='street']\", stAdd)\n",
    "    r.type(\"//input[@id='city']\", city)\n",
    "    r.select(\"//select[@id='state']\", state)\n",
    "    r.type(\"//input[@id='zip']\", str(zip0).zfill(5))\n",
    "    r.type(\"//input[@id='email']\", emailAdd)\n",
    "    \n",
    "    print(zip0)\n",
    "    \n",
    "    if offerBool == 'YES':\n",
    "        r.click(\"//input[@id='activeDiscountYes']\")\n",
    "    else:\n",
    "        r.click(\"//input[@id='activeDiscountNo']\")\n",
    "        \n",
    "    if ndaBool == 'YES':\n",
    "        r.click(\"//input[@id='NDA']\")\n",
    "        \n",
    "    r.click(\"//button[normalize-space()='Register']\")\n",
    "    r.wait(1)\n",
    "    \n",
    "    "
   ]
  },
  {
   "cell_type": "code",
   "execution_count": 8,
   "id": "5bb4b555",
   "metadata": {},
   "outputs": [],
   "source": [
    "# turbo_mode(True)"
   ]
  },
  {
   "cell_type": "code",
   "execution_count": 10,
   "id": "d1c1d6ff",
   "metadata": {},
   "outputs": [
    {
     "data": {
      "text/plain": [
       "True"
      ]
     },
     "execution_count": 10,
     "metadata": {},
     "output_type": "execute_result"
    }
   ],
   "source": [
    "r.close()"
   ]
  },
  {
   "cell_type": "code",
   "execution_count": null,
   "id": "bd185b7c",
   "metadata": {},
   "outputs": [],
   "source": []
  }
 ],
 "metadata": {
  "kernelspec": {
   "display_name": "Python 3 (ipykernel)",
   "language": "python",
   "name": "python3"
  },
  "language_info": {
   "codemirror_mode": {
    "name": "ipython",
    "version": 3
   },
   "file_extension": ".py",
   "mimetype": "text/x-python",
   "name": "python",
   "nbconvert_exporter": "python",
   "pygments_lexer": "ipython3",
   "version": "3.9.6"
  }
 },
 "nbformat": 4,
 "nbformat_minor": 5
}
