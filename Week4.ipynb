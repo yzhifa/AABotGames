{
 "cells": [
  {
   "cell_type": "code",
   "execution_count": null,
   "metadata": {},
   "outputs": [],
   "source": [
    "# !pip install torch==1.8.1+cu102 torchvision==0.9.1+cu102 torchaudio===0.8.1 -f https://download.pytorch.org/whl/torch_stable.html\n",
    "\n"
   ]
  },
  {
   "cell_type": "code",
   "execution_count": null,
   "metadata": {},
   "outputs": [],
   "source": [
    "# !pip install easyocr"
   ]
  },
  {
   "cell_type": "code",
   "execution_count": null,
   "metadata": {},
   "outputs": [],
   "source": [
    "# !pip install pytesseract"
   ]
  },
  {
   "cell_type": "code",
   "execution_count": null,
   "metadata": {},
   "outputs": [],
   "source": [
    "# !pip install pyautogui"
   ]
  },
  {
   "cell_type": "code",
   "execution_count": null,
   "metadata": {},
   "outputs": [],
   "source": [
    "# import easyocr\n",
    "import cv2\n",
    "import matplotlib.pyplot as plt\n",
    "import numpy as np\n",
    "import re\n",
    "import os"
   ]
  },
  {
   "cell_type": "code",
   "execution_count": null,
   "metadata": {},
   "outputs": [],
   "source": [
    "import pytesseract\n",
    "pytesseract.pytesseract.tesseract_cmd = r'C:\\Program Files\\Tesseract-OCR\\tesseract.exe'"
   ]
  },
  {
   "cell_type": "code",
   "execution_count": null,
   "metadata": {},
   "outputs": [],
   "source": [
    "# # If EasyOCR gives error #15\n",
    "# os.environ['KMP_DUPLICATE_LIB_OK']='True'"
   ]
  },
  {
   "cell_type": "code",
   "execution_count": null,
   "metadata": {},
   "outputs": [],
   "source": [
    "fileLoc = r'C:\\Users\\ZF\\Desktop\\AA _RPA_Challenge\\Challange4\\Invoices'"
   ]
  },
  {
   "cell_type": "code",
   "execution_count": null,
   "metadata": {},
   "outputs": [],
   "source": [
    "custom_config = r'--oem 3 --psm 6'"
   ]
  },
  {
   "cell_type": "code",
   "execution_count": null,
   "metadata": {},
   "outputs": [],
   "source": [
    "invoices_lst = [i for i in os.listdir(fileLoc) if i.endswith('.tiff')]"
   ]
  },
  {
   "cell_type": "code",
   "execution_count": null,
   "metadata": {},
   "outputs": [],
   "source": [
    "fileList = [fileLoc+\"\\\\\"+i for i in invoices_lst]"
   ]
  },
  {
   "cell_type": "code",
   "execution_count": null,
   "metadata": {},
   "outputs": [],
   "source": [
    "invoice = {}\n",
    "\n",
    "for f in fileList:\n",
    "    \n",
    "    invoice[f] = {}\n",
    "    \n",
    "    img = cv2.imread(f)\n",
    "\n",
    "    # OCR - get text\n",
    "    # str_list = pytesseract.image_to_string(img, config=custom_config).split('\\n')\n",
    "    str_list = pytesseract.image_to_string(img).split('\\n')\n",
    "    str_list2 = [i for i in str_list if re.match('[\\d\\w]+?', i)]\n",
    "\n",
    "    # Extract Data\n",
    "    qty_idx = 0\n",
    "    subtotal_idx = 0\n",
    "\n",
    "    for idx, i in enumerate(str_list2):\n",
    "\n",
    "        if \"Invoice\" in i:\n",
    "\n",
    "            i_list = i.split(' ')\n",
    "\n",
    "            for jdx, j in enumerate(i_list):\n",
    "\n",
    "                if j == 'no.':\n",
    "                    try:\n",
    "                        invoice_num = i_list[jdx+1]\n",
    "                    except:\n",
    "                        invoice_num = str_list2[idx+1].split(' ')[-1]\n",
    "\n",
    "                if j == 'Date':\n",
    "                    try:\n",
    "                        invoice_date = ' '.join([i_list[jdx+1], i_list[jdx+2], i_list[jdx+3]])\n",
    "                    except:\n",
    "                        invoice_date = ' '.join(str_list2[idx+1].split(' ')[-3:])\n",
    "\n",
    "\n",
    "                if j == 'Amount':\n",
    "                    try:\n",
    "                        invoice_amount = i_list[-1]\n",
    "                    except:\n",
    "                        invoice_amount = str_list2[idx+1].split(' ')[-1]\n",
    "                        \n",
    "                    invoice_amount = invoice_amount.replace('$', '').replace(',', '')\n",
    "\n",
    "        if \"Quantity\" in i:\n",
    "            qty_idx = idx\n",
    "\n",
    "\n",
    "        if \"Subtotal\" in i:\n",
    "            subtotal_idx = idx\n",
    "        \n",
    "    # Collate results\n",
    "    \n",
    "    invoice[f]['invoice_num'] = invoice_num\n",
    "    invoice[f]['invoice_date'] = invoice_date\n",
    "    invoice[f]['invoice_amt'] = invoice_amount\n",
    "    invoice[f]['items'] = []\n",
    "    \n",
    "    # Collate invoice items\n",
    "    for i in range(qty_idx+1, subtotal_idx):\n",
    "        i_split = str_list2[i].replace('|', '').split(' ')\n",
    "        i_split = [i for i in i_split if i != '']\n",
    "\n",
    "        g_index = i_split.index('G')\n",
    "\n",
    "        qty = i_split[0]\n",
    "        total_amt = i_split[-1].replace('$', '').replace(',', '')\n",
    "        desc = ' '.join(i_split[2:g_index-1])\n",
    "        \n",
    "        invoice[f]['items'].append([qty, desc, total_amt])"
   ]
  },
  {
   "cell_type": "code",
   "execution_count": null,
   "metadata": {},
   "outputs": [],
   "source": [
    "invoice"
   ]
  },
  {
   "cell_type": "code",
   "execution_count": null,
   "metadata": {},
   "outputs": [],
   "source": [
    "#rpa proper\n",
    "import rpa as r\n",
    "import pyautogui\n",
    "\n",
    "challenge_site = r'https://developer.automationanywhere.com/challenges/automationanywherelabs-invoiceentry.html'\n",
    "\n",
    "r.tagui_location()\n"
   ]
  },
  {
   "cell_type": "code",
   "execution_count": null,
   "metadata": {},
   "outputs": [],
   "source": [
    "r.init(visual_automation = True, turbo_mode=True)"
   ]
  },
  {
   "cell_type": "code",
   "execution_count": null,
   "metadata": {},
   "outputs": [],
   "source": [
    "r.url(challenge_site)\n",
    "r.wait(2)"
   ]
  },
  {
   "cell_type": "code",
   "execution_count": null,
   "metadata": {},
   "outputs": [],
   "source": [
    "# pyautogui.click('aa.png')"
   ]
  },
  {
   "cell_type": "code",
   "execution_count": null,
   "metadata": {},
   "outputs": [],
   "source": [
    "invoice_counter = 0\n",
    "\n",
    "for fileName, invoiceInfo in invoice.items():\n",
    "    r.type(\"//input[@id='invoiceNumber']\", invoiceInfo['invoice_num'])\n",
    "    r.type(\"//input[@id='invoiceDate']\", invoiceInfo['invoice_date'])\n",
    "    r.type(\"//input[@id='invoiceTotal']\", invoiceInfo['invoice_amt'])\n",
    "    \n",
    "    num_items = len(invoiceInfo['items'])\n",
    "    \n",
    "    for _ in range(num_items-1):\n",
    "        r.click(\"//button[contains(text(),'Add')]\")\n",
    "    \n",
    "    for idx, items in enumerate(invoiceInfo['items']):\n",
    "        qty, desc, amt = items\n",
    "        r.type(f\"//input[@id='quantity_row_{idx+1}']\", qty)\n",
    "        r.type(f\"//input[@id='description_row_{idx+1}']\", desc)\n",
    "        r.type(f\"//input[@id='price_row_{idx+1}']\",amt)\n",
    "        \n",
    "    # Upload file    \n",
    "    r.upload(\"#fileupload\", fileName)\n",
    "#     r.wait(1.5)\n",
    "# #     fw = pyautogui.getWindowsWithTitle('Open')\n",
    "# #     fw=fw[0]\n",
    "# #     pyautogui.click(fw.center)\n",
    "#     pyautogui.write(str(fileName))\n",
    "#     pyautogui.write(['enter'])\n",
    "    \n",
    "    # Acknowledge\n",
    "    r.click(\"//input[@id='agreeToTermsYes']\")\n",
    "    \n",
    "    r.click(\"//button[normalize-space()='Submit']\")\n",
    "    \n",
    "    print(fileName)\n",
    "    invoice_counter += 1\n",
    "    \n",
    "    "
   ]
  },
  {
   "cell_type": "code",
   "execution_count": null,
   "metadata": {},
   "outputs": [],
   "source": [
    "# r.close()"
   ]
  },
  {
   "cell_type": "code",
   "execution_count": null,
   "metadata": {},
   "outputs": [],
   "source": [
    "# r.upload(\"#fileupload\", list(invoice.keys())[0])"
   ]
  },
  {
   "cell_type": "code",
   "execution_count": null,
   "metadata": {},
   "outputs": [],
   "source": []
  }
 ],
 "metadata": {
  "kernelspec": {
   "display_name": "Python 3 (ipykernel)",
   "language": "python",
   "name": "python3"
  },
  "language_info": {
   "codemirror_mode": {
    "name": "ipython",
    "version": 3
   },
   "file_extension": ".py",
   "mimetype": "text/x-python",
   "name": "python",
   "nbconvert_exporter": "python",
   "pygments_lexer": "ipython3",
   "version": "3.9.6"
  }
 },
 "nbformat": 4,
 "nbformat_minor": 4
}
