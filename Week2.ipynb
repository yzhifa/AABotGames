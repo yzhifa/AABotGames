{
 "cells": [
  {
   "cell_type": "code",
   "execution_count": null,
   "id": "2412ca5c",
   "metadata": {
    "scrolled": true
   },
   "outputs": [
    {
     "name": "stdout",
     "output_type": "stream",
     "text": [
      "['45-620-9064', '86-584-8443', '10-428-8576', '08-111-6836', '83-606-4403', '13-255-4757', '69-691-1255']\n"
     ]
    }
   ],
   "source": [
    "import numpy as np\n",
    "import pandas as pd\n",
    "import rpa as r\n",
    "\n",
    "# Constants\n",
    "challenge_site = 'https://developer.automationanywhere.com/challenges/automationanywherelabs-supplychainmanagement.html'\n",
    "app_site = 'https://developer.automationanywhere.com/challenges/AutomationAnywhereLabs-POTrackingLogin.html'\n",
    "\n",
    "# App site log-in\n",
    "username = \"admin@procurementanywhere.com\" \n",
    "password = \"paypacksh!p\"\n",
    "\n",
    "# Containers\n",
    "PO = []\n",
    "ship_date =[]\n",
    "order_total = []\n",
    "agent = []\n",
    "\n",
    "# Read the State Assignment File\n",
    "state_assgt = pd.read_excel('StateAssignments.xlsx', dtype='object')\n",
    "\n",
    "# Initialize\n",
    "r.init()\n",
    "\n",
    "# Go to challenge site\n",
    "r.url(challenge_site)\n",
    "r.wait(1)\n",
    "\n",
    "# Get PO numbers\n",
    "for i in range(7):\n",
    "    PO.append(r.read(f\"//input[@id='PONumber{i+1}']\"))\n",
    "    \n",
    "print(PO)\n",
    "\n",
    "# Go to app site in new tab\n",
    "r.click(\"//a[normalize-space()='Procurement Anywhere']\")\n",
    "\n",
    "r.popup(app_site)\n",
    "\n",
    "# # Log in app site\n",
    "r.type(\"//input[@id='inputEmail']\", username)\n",
    "r.type('//input[@id=\"inputPassword\"]', password)\n",
    "r.click(\"//button[@type='button']\")\n",
    "\n",
    "\n",
    "# Collate Order Statuses\n",
    "for po in PO:\n",
    "    r.type('//input[@type=\"search\"]', '[clear]' + po)\n",
    "    \n",
    "    # Ship_Date\n",
    "    ship_date.append(r.read('//*[@id=\"dtBasicExample\"]/tbody/tr/td[7]'))\n",
    "\n",
    "    # Order_Total\n",
    "    ordertotal = r.read('//*[@id=\"dtBasicExample\"]/tbody/tr/td[8]')\n",
    "    order_total.append(ordertotal[1:])\n",
    "\n",
    "    # State\n",
    "    state = r.read('//*[@id=\"dtBasicExample\"]/tbody/tr/td[5]')\n",
    "    agent.append(state_assgt.loc[state_assgt['State'] == state]['Full Name'].values[0])\n",
    "    \n",
    "r.popup(challenge_site)\n",
    "\n",
    "for idx, po in enumerate(PO):\n",
    "    r.type(f\"//input[@id='shipDate{idx+1}']\", ship_date[idx])\n",
    "    r.type(f\"//input[@id='orderTotal{idx+1}']\", order_total[idx])\n",
    "    r.select(f\"//select[@id='agent{idx+1}']\", agent[idx])\n",
    "\n",
    "# # Submit\n",
    "r.click(\"//button[normalize-space()='Submit']\")"
   ]
  },
  {
   "cell_type": "code",
   "execution_count": null,
   "id": "c0086996",
   "metadata": {},
   "outputs": [],
   "source": [
    "r.close()"
   ]
  },
  {
   "cell_type": "code",
   "execution_count": null,
   "id": "aa7e4b0d",
   "metadata": {},
   "outputs": [],
   "source": [
    "def turbo_mode(on_off = None):\n",
    "    import rpa as r; import platform\n",
    "\n",
    "    if on_off is None:\n",
    "        print('[USAGE] provide True / False as parameter')\n",
    "        return False\n",
    "    \n",
    "    if platform.system() == 'Windows':\n",
    "        tagui_src_directory = r.tagui_location() + '/tagui/src'\n",
    "    else:\n",
    "        tagui_src_directory = r.tagui_location() + '/.tagui/src'\n",
    "\n",
    "    if on_off:\n",
    "        print('[RPA] updating to tournament edition')\n",
    "        r.download('https://github.com/kelaberetiv/TagUI/files/6935906/tagui_header_py.txt', tagui_src_directory + '/tagui_header.js')\n",
    "        r.download('https://github.com/kelaberetiv/TagUI/files/6935910/tagui_chrome_py.txt', tagui_src_directory + '/tagui_chrome.php')\n",
    "        print('[RPA] done')\n",
    "    else:\n",
    "        print('[RPA] reverting to production edition')\n",
    "        r.download('https://raw.githubusercontent.com/tebelorg/TagUI/rpa_python/src/tagui_header.js', tagui_src_directory + '/tagui_header.js')\n",
    "        r.download('https://raw.githubusercontent.com/tebelorg/TagUI/rpa_python/src/tagui_chrome.php', tagui_src_directory + '/tagui_chrome.php')\n",
    "        print('[RPA] done')\n",
    "        \n",
    "    return True\n"
   ]
  },
  {
   "cell_type": "code",
   "execution_count": null,
   "id": "6b572924",
   "metadata": {},
   "outputs": [],
   "source": [
    "turbo_mode(True)"
   ]
  },
  {
   "cell_type": "code",
   "execution_count": null,
   "id": "6780a694",
   "metadata": {},
   "outputs": [],
   "source": []
  },
  {
   "cell_type": "code",
   "execution_count": null,
   "id": "81a0ae6c",
   "metadata": {},
   "outputs": [],
   "source": []
  }
 ],
 "metadata": {
  "kernelspec": {
   "display_name": "Python 3",
   "language": "python",
   "name": "python3"
  },
  "language_info": {
   "codemirror_mode": {
    "name": "ipython",
    "version": 3
   },
   "file_extension": ".py",
   "mimetype": "text/x-python",
   "name": "python",
   "nbconvert_exporter": "python",
   "pygments_lexer": "ipython3",
   "version": "3.8.10"
  }
 },
 "nbformat": 4,
 "nbformat_minor": 5
}
